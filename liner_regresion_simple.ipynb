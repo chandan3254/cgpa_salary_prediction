{
  "nbformat": 4,
  "nbformat_minor": 0,
  "metadata": {
    "colab": {
      "private_outputs": true,
      "provenance": []
    },
    "kernelspec": {
      "name": "python3",
      "display_name": "Python 3"
    },
    "language_info": {
      "name": "python"
    }
  },
  "cells": [
    {
      "cell_type": "markdown",
      "source": [
        "Linear Regression is a statistical and machine learning technique used to find the relationship between input (independent variable) and output (dependent variable). It tries to fit the best straight line to predict the output.It is one of the simplest supervised learning algorithms."
      ],
      "metadata": {
        "id": "Q2lQz2FvXTLd"
      }
    },
    {
      "cell_type": "markdown",
      "source": [
        "Y=a+bX\n",
        "\n",
        "Y → dependent variable\n",
        "\n",
        "X → independent variable\n",
        "\n",
        "a → intercept\n",
        "\n",
        "b → slope"
      ],
      "metadata": {
        "id": "qN8aixJKXc0M"
      }
    },
    {
      "cell_type": "markdown",
      "source": [
        "simple linear regresion"
      ],
      "metadata": {
        "id": "5IJ_SxkxYC5h"
      }
    },
    {
      "cell_type": "markdown",
      "source": [
        "When there is only one independent variable, it is called Simple Linear Regression, and with more than one, it is called Multiple Linear Regression. It is mainly used for prediction of continuous values like sales, marks, or salary"
      ],
      "metadata": {
        "id": "zwhZGTocYLKY"
      }
    },
    {
      "cell_type": "markdown",
      "source": [
        "Example: Predict Marks from Study Hours\n",
        "\n",
        "| Experience (Years) | Salary (in ₹000) |\n",
        "| ------------------ | ---------------- |\n",
        "| 1                  | 30               |\n",
        "| 2                  | 35               |\n",
        "| 3                  | 40               |\n",
        "| 4                  | 45               |\n",
        "| 5                  | 50               |\n"
      ],
      "metadata": {
        "id": "yg5TSp5gYZBv"
      }
    },
    {
      "cell_type": "code",
      "source": [
        "import numpy as np\n",
        "from sklearn.linear_model import LinearRegression\n",
        "\n",
        "# Data\n",
        "X = np.array([1,2,3,4,5]).reshape(-1,1)   # Experience\n",
        "y = np.array([30,35,40,45,50])            # Salary\n",
        "\n",
        "# Train model\n",
        "model = LinearRegression().fit(X, y)\n",
        "\n",
        "# Prediction for 6 years experience\n",
        "print(\"Predicted Salary:\", model.predict([[6]])[0])\n"
      ],
      "metadata": {
        "id": "9TXJeP6eY7dO"
      },
      "execution_count": null,
      "outputs": []
    },
    {
      "cell_type": "markdown",
      "source": [
        "\"Suppose we have a dataset of college pass-out students where one column contains the students' CGPA and another column contains their salary in LPA (Lakhs Per Annum). Now, the college has asked to develop a model that can predict the upcoming students' salary based on their CGPA using the previous students' data.\""
      ],
      "metadata": {
        "id": "gYYmAy5id_HI"
      }
    },
    {
      "cell_type": "code",
      "source": [
        "import pandas as pd\n",
        "\n",
        "url = \"https://drive.google.com/uc?id=16c6MLLpGWbTQI841LI4uONkpZJ_9CRm8\"\n",
        "df = pd.read_csv(url)\n",
        "print(df.head())\n",
        "\n"
      ],
      "metadata": {
        "id": "oA_Y3UKBeCNC"
      },
      "execution_count": null,
      "outputs": []
    },
    {
      "cell_type": "markdown",
      "source": [
        "show graph"
      ],
      "metadata": {
        "id": "v2H02g1ugGz2"
      }
    },
    {
      "cell_type": "code",
      "source": [
        "import seaborn as sns\n",
        "import matplotlib.pyplot as plt\n",
        "from sklearn.model_selection import train_test_split\n",
        "\n",
        "plt.figure(figsize=(5,3))\n",
        "sns.scatterplot(x=\"cgpa\", y=\"package\", data=df)\n",
        "plt.show()\n"
      ],
      "metadata": {
        "id": "AXOVvgaugJuA"
      },
      "execution_count": null,
      "outputs": []
    },
    {
      "cell_type": "markdown",
      "source": [
        "check null value"
      ],
      "metadata": {
        "id": "c-eX3AXwfKzI"
      }
    },
    {
      "cell_type": "code",
      "source": [
        "df.isnull().sum()\n"
      ],
      "metadata": {
        "id": "PfvPXHuzfNKg"
      },
      "execution_count": null,
      "outputs": []
    },
    {
      "cell_type": "code",
      "source": [
        "X = np.array(df[\"cgpa\"]).reshape(-1,1)   # independent variable\n",
        "Y = np.array(df[\"package\"])    # dependent variable (target/output)\n"
      ],
      "metadata": {
        "id": "_whP0f_3fcB6"
      },
      "execution_count": null,
      "outputs": []
    },
    {
      "cell_type": "markdown",
      "source": [
        "now split our dataset for traning and testing"
      ],
      "metadata": {
        "id": "VtKywPRWifJR"
      }
    },
    {
      "cell_type": "code",
      "source": [
        "x_train, x_test, y_train, y_test = train_test_split(X, Y, test_size=0.2, random_state=40)"
      ],
      "metadata": {
        "id": "hXEG7ly_im7U"
      },
      "execution_count": null,
      "outputs": []
    },
    {
      "cell_type": "markdown",
      "source": [
        "call linear model"
      ],
      "metadata": {
        "id": "6RoIasXekCPY"
      }
    },
    {
      "cell_type": "code",
      "source": [
        "lr = LinearRegression()\n",
        "lr.fit(x_train, y_train)\n",
        "\n"
      ],
      "metadata": {
        "id": "18jSYcQrkHyb"
      },
      "execution_count": null,
      "outputs": []
    },
    {
      "cell_type": "markdown",
      "source": [
        "now predict"
      ],
      "metadata": {
        "id": "Q0XbcvHDnu6l"
      }
    },
    {
      "cell_type": "code",
      "source": [
        "lr.predict([[9.80]])"
      ],
      "metadata": {
        "id": "4OIVS9DNnZMW"
      },
      "execution_count": null,
      "outputs": []
    },
    {
      "cell_type": "markdown",
      "source": [
        "now used formula\n",
        "Y=a+bX\n",
        "\n",
        "Y → dependent variable\n",
        "\n",
        "X → independent variable\n",
        "\n",
        "a → intercept\n",
        "\n",
        "b → slope"
      ],
      "metadata": {
        "id": "ITuyg5KH04kZ"
      }
    },
    {
      "cell_type": "code",
      "source": [
        "lr.coef_"
      ],
      "metadata": {
        "id": "l8GCEqdK1NgE"
      },
      "execution_count": null,
      "outputs": []
    },
    {
      "cell_type": "code",
      "source": [
        "lr.intercept_"
      ],
      "metadata": {
        "id": "XsPAVEUm1Uj0"
      },
      "execution_count": null,
      "outputs": []
    },
    {
      "cell_type": "markdown",
      "source": [
        "y=a+bx\n",
        "\n",
        "y=1.2990467292815584+0.4595932*b"
      ],
      "metadata": {
        "id": "e2OOG_g31g1y"
      }
    },
    {
      "cell_type": "code",
      "source": [
        "0.4595932*9.80-1.2990467292815584"
      ],
      "metadata": {
        "id": "Cqp3b6XY17WJ"
      },
      "execution_count": null,
      "outputs": []
    }
  ]
}